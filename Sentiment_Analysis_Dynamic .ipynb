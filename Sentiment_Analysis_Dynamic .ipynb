{
  "nbformat": 4,
  "nbformat_minor": 0,
  "metadata": {
    "colab": {
      "name": "Sentiment_Analysis_Final.ipynb",
      "provenance": [],
      "collapsed_sections": [],
      "toc_visible": true
    },
    "kernelspec": {
      "name": "python3",
      "display_name": "Python 3"
    },
    "language_info": {
      "name": "python"
    },
    "accelerator": "GPU"
  },
  "cells": [
    {
      "cell_type": "markdown",
      "metadata": {
        "id": "8_jR5ynO8haM"
      },
      "source": [
        "## Imports"
      ]
    },
    {
      "cell_type": "code",
      "metadata": {
        "colab": {
          "base_uri": "https://localhost:8080/"
        },
        "id": "nQEJHyQy8ZyM",
        "outputId": "e84f9952-89ec-4a0b-9f46-90d685be7cd4"
      },
      "source": [
        "!pip install transformers"
      ],
      "execution_count": null,
      "outputs": [
        {
          "output_type": "stream",
          "text": [
            "Requirement already satisfied: transformers in /usr/local/lib/python3.7/dist-packages (4.8.2)\n",
            "Requirement already satisfied: filelock in /usr/local/lib/python3.7/dist-packages (from transformers) (3.0.12)\n",
            "Requirement already satisfied: regex!=2019.12.17 in /usr/local/lib/python3.7/dist-packages (from transformers) (2019.12.20)\n",
            "Requirement already satisfied: tqdm>=4.27 in /usr/local/lib/python3.7/dist-packages (from transformers) (4.41.1)\n",
            "Requirement already satisfied: sacremoses in /usr/local/lib/python3.7/dist-packages (from transformers) (0.0.45)\n",
            "Requirement already satisfied: packaging in /usr/local/lib/python3.7/dist-packages (from transformers) (20.9)\n",
            "Requirement already satisfied: tokenizers<0.11,>=0.10.1 in /usr/local/lib/python3.7/dist-packages (from transformers) (0.10.3)\n",
            "Requirement already satisfied: huggingface-hub==0.0.12 in /usr/local/lib/python3.7/dist-packages (from transformers) (0.0.12)\n",
            "Requirement already satisfied: importlib-metadata; python_version < \"3.8\" in /usr/local/lib/python3.7/dist-packages (from transformers) (4.5.0)\n",
            "Requirement already satisfied: numpy>=1.17 in /usr/local/lib/python3.7/dist-packages (from transformers) (1.19.5)\n",
            "Requirement already satisfied: requests in /usr/local/lib/python3.7/dist-packages (from transformers) (2.23.0)\n",
            "Requirement already satisfied: pyyaml in /usr/local/lib/python3.7/dist-packages (from transformers) (3.13)\n",
            "Requirement already satisfied: click in /usr/local/lib/python3.7/dist-packages (from sacremoses->transformers) (7.1.2)\n",
            "Requirement already satisfied: six in /usr/local/lib/python3.7/dist-packages (from sacremoses->transformers) (1.15.0)\n",
            "Requirement already satisfied: joblib in /usr/local/lib/python3.7/dist-packages (from sacremoses->transformers) (1.0.1)\n",
            "Requirement already satisfied: pyparsing>=2.0.2 in /usr/local/lib/python3.7/dist-packages (from packaging->transformers) (2.4.7)\n",
            "Requirement already satisfied: typing-extensions in /usr/local/lib/python3.7/dist-packages (from huggingface-hub==0.0.12->transformers) (3.7.4.3)\n",
            "Requirement already satisfied: zipp>=0.5 in /usr/local/lib/python3.7/dist-packages (from importlib-metadata; python_version < \"3.8\"->transformers) (3.4.1)\n",
            "Requirement already satisfied: chardet<4,>=3.0.2 in /usr/local/lib/python3.7/dist-packages (from requests->transformers) (3.0.4)\n",
            "Requirement already satisfied: idna<3,>=2.5 in /usr/local/lib/python3.7/dist-packages (from requests->transformers) (2.10)\n",
            "Requirement already satisfied: certifi>=2017.4.17 in /usr/local/lib/python3.7/dist-packages (from requests->transformers) (2021.5.30)\n",
            "Requirement already satisfied: urllib3!=1.25.0,!=1.25.1,<1.26,>=1.21.1 in /usr/local/lib/python3.7/dist-packages (from requests->transformers) (1.24.3)\n"
          ],
          "name": "stdout"
        }
      ]
    },
    {
      "cell_type": "code",
      "metadata": {
        "colab": {
          "base_uri": "https://localhost:8080/"
        },
        "id": "_O1H2_SH8m30",
        "outputId": "6de0b1c4-cf55-45b9-c3e7-70f6f26d5a7c"
      },
      "source": [
        "from google.colab import drive\n",
        "drive.mount('/content/drive')"
      ],
      "execution_count": null,
      "outputs": [
        {
          "output_type": "stream",
          "text": [
            "Drive already mounted at /content/drive; to attempt to forcibly remount, call drive.mount(\"/content/drive\", force_remount=True).\n"
          ],
          "name": "stdout"
        }
      ]
    },
    {
      "cell_type": "code",
      "metadata": {
        "id": "hPO7vgSh8pN1"
      },
      "source": [
        "import pandas as pd\n",
        "import numpy as np\n",
        "import sklearn\n",
        "import matplotlib.pyplot as plt\n",
        "import tensorflow as tf\n",
        "from tensorflow import keras \n",
        "import torch\n",
        "import transformers\n",
        "import seaborn as sns\n",
        "import random"
      ],
      "execution_count": null,
      "outputs": []
    },
    {
      "cell_type": "markdown",
      "metadata": {
        "id": "AOPKBAXaFUg-"
      },
      "source": [
        "## Load Data"
      ]
    },
    {
      "cell_type": "code",
      "metadata": {
        "id": "Adp54b-_8vxD"
      },
      "source": [
        "df = pd.read_csv(\"/content/drive/MyDrive/dev/sentiment.csv\", names=['text', 'humor', 'category'])\n",
        "df['category'] = df['category'].astype(int)\n",
        "class_names = ['negative', 'neutral', 'positive']"
      ],
      "execution_count": null,
      "outputs": []
    },
    {
      "cell_type": "code",
      "metadata": {
        "colab": {
          "base_uri": "https://localhost:8080/"
        },
        "id": "Ux8RTnqV-ls6",
        "outputId": "8363a2f7-2672-44bb-87a4-0e2836dee945"
      },
      "source": [
        "from sklearn.model_selection import train_test_split\n",
        "\n",
        "RANDOM_SEED = np.random.randint(0, 1000)\n",
        "print('random seed: ', RANDOM_SEED)\n",
        "np.random.seed(RANDOM_SEED)\n",
        "torch.manual_seed(RANDOM_SEED)\n",
        "\n",
        "df_train, df_test = train_test_split(df, test_size=0.25, random_state=RANDOM_SEED)\n",
        "df_train.shape, df_test.shape"
      ],
      "execution_count": null,
      "outputs": [
        {
          "output_type": "stream",
          "text": [
            "random seed:  188\n"
          ],
          "name": "stdout"
        },
        {
          "output_type": "execute_result",
          "data": {
            "text/plain": [
              "((1001, 3), (334, 3))"
            ]
          },
          "metadata": {
            "tags": []
          },
          "execution_count": 58
        }
      ]
    },
    {
      "cell_type": "code",
      "metadata": {
        "id": "HK0PIN8gAgru"
      },
      "source": [
        "train_text = []\n",
        "train_labels = []\n",
        "\n",
        "for txt in df_train.text:\n",
        "    train_text.append(txt)\n",
        "for lbl in df_train.humor:\n",
        "    train_labels.append(lbl)\n",
        "\n",
        "test_text = []\n",
        "test_labels = []\n",
        "\n",
        "for txt in df_test.text:\n",
        "    test_text.append(txt)\n",
        "for lbl in df_test.humor:\n",
        "    test_labels.append(lbl)"
      ],
      "execution_count": null,
      "outputs": []
    },
    {
      "cell_type": "markdown",
      "metadata": {
        "id": "g5-VkgtPEb0n"
      },
      "source": [
        "# Model Creation & Setup\n",
        "\n",
        "## The classifier consists of:\n",
        "*  A pre-trained BERT model\n",
        "*  A Dropout layer\n",
        "*  A dense layer (3 output classes)"
      ]
    },
    {
      "cell_type": "code",
      "metadata": {
        "id": "bRY3tMkEAlmT"
      },
      "source": [
        "class SentimentClassifier(torch.nn.Module):\n",
        "\n",
        "  def __init__(self, n_classes):\n",
        "    super(SentimentClassifier, self).__init__()\n",
        "    self.bert = BertModel.from_pretrained(PRE_TRAINED_MODEL_NAME)\n",
        "    self.drop = torch.nn.Dropout(p=0.1)\n",
        "    self.out = torch.nn.Linear(self.bert.config.hidden_size, n_classes)\n",
        "  \n",
        "  def forward(self, input_ids, attention_mask):\n",
        "    returned = self.bert(\n",
        "        input_ids=input_ids,\n",
        "        attention_mask=attention_mask\n",
        "    )\n",
        "    pooled_output = returned.pooler_output\n",
        "    output = self.drop(pooled_output)\n",
        "    return self.out(output)"
      ],
      "execution_count": null,
      "outputs": []
    },
    {
      "cell_type": "code",
      "metadata": {
        "colab": {
          "base_uri": "https://localhost:8080/"
        },
        "id": "t163LLPuAvMT",
        "outputId": "ddbd699e-4116-498c-8c67-eb094d68b552"
      },
      "source": [
        "from transformers import BertModel, BertTokenizer\n",
        "\n",
        "PRE_TRAINED_MODEL_NAME = 'bert-base-cased'\n",
        "\n",
        "tokenizer = BertTokenizer.from_pretrained(PRE_TRAINED_MODEL_NAME) \n",
        "model = SentimentClassifier(3)"
      ],
      "execution_count": null,
      "outputs": [
        {
          "output_type": "stream",
          "text": [
            "Some weights of the model checkpoint at bert-base-cased were not used when initializing BertModel: ['cls.seq_relationship.bias', 'cls.predictions.transform.dense.weight', 'cls.seq_relationship.weight', 'cls.predictions.transform.LayerNorm.bias', 'cls.predictions.transform.dense.bias', 'cls.predictions.transform.LayerNorm.weight', 'cls.predictions.decoder.weight', 'cls.predictions.bias']\n",
            "- This IS expected if you are initializing BertModel from the checkpoint of a model trained on another task or with another architecture (e.g. initializing a BertForSequenceClassification model from a BertForPreTraining model).\n",
            "- This IS NOT expected if you are initializing BertModel from the checkpoint of a model that you expect to be exactly identical (initializing a BertForSequenceClassification model from a BertForSequenceClassification model).\n"
          ],
          "name": "stderr"
        }
      ]
    },
    {
      "cell_type": "code",
      "metadata": {
        "id": "LNZ-aRusA2z-"
      },
      "source": [
        "device = torch.device('cuda')\n",
        "model = model.to(device)"
      ],
      "execution_count": null,
      "outputs": []
    },
    {
      "cell_type": "markdown",
      "metadata": {
        "id": "7mg2N3H8EO-p"
      },
      "source": [
        "### Compute class weights for class districution"
      ]
    },
    {
      "cell_type": "code",
      "metadata": {
        "colab": {
          "base_uri": "https://localhost:8080/"
        },
        "id": "rAbqjUn-BKWP",
        "outputId": "02afd475-39b9-4844-c680-98b5978f30e0"
      },
      "source": [
        "from sklearn.utils.class_weight import compute_class_weight\n",
        "\n",
        "#compute the class weights\n",
        "class_weights = compute_class_weight('balanced', np.unique(df_train.category), df_train.category)\n",
        "\n",
        "print(\"Class Weights:\",class_weights)\n",
        "\n",
        "# # converting list of class weights to a tensor\n",
        "weights= torch.tensor(class_weights,dtype=torch.float)\n",
        "\n",
        "# # push to GPU\n",
        "weights = weights.to(device)"
      ],
      "execution_count": null,
      "outputs": [
        {
          "output_type": "stream",
          "text": [
            "Class Weights: [1.26869455 0.78509804 1.06602769]\n"
          ],
          "name": "stdout"
        }
      ]
    },
    {
      "cell_type": "markdown",
      "metadata": {
        "id": "9w8rV8BYEOGt"
      },
      "source": [
        "## Initialization of parameters for the model and training\n",
        "\n",
        "*  Max length of the padded input = 50\n",
        "*  Batch size = 16\n",
        "*  Learning rate = 2e-5\n",
        "*  Bias correction = True\n",
        "*  Weight decay = 0.01\n",
        "*  warmup = 10% of total steps\n"
      ]
    },
    {
      "cell_type": "code",
      "metadata": {
        "id": "03rFrnhhA8pt"
      },
      "source": [
        "from transformers import AdamW\n",
        "from transformers import get_linear_schedule_with_warmup\n",
        "from torch.nn import CrossEntropyLoss\n",
        "\n",
        "MAX_LEN = 50\n",
        "BATCH_SIZE = 16\n",
        "EPOCHS = 6\n",
        "\n",
        "optimizer = AdamW(model.parameters(),\n",
        "                  lr = 2e-5, # This is the value Michael used.\n",
        "                  eps = 1e-6, # args.adam_epsilon  - default is 1e-8.\n",
        "                  correct_bias=True,\n",
        "                  weight_decay=0.01\n",
        "                )\n",
        "\n",
        "total_steps = len(train_text) * EPOCHS\n",
        "warmup_steps = 0.1 * total_steps\n",
        "\n",
        "scheduler = get_linear_schedule_with_warmup(optimizer, \n",
        "                                            num_warmup_steps = warmup_steps, # Default value in run_glue.py\n",
        "                                            num_training_steps = total_steps)\n",
        "\n",
        "\n",
        "loss_fn = CrossEntropyLoss().to(device)"
      ],
      "execution_count": null,
      "outputs": []
    },
    {
      "cell_type": "markdown",
      "metadata": {
        "id": "-BgFtG9AECQC"
      },
      "source": [
        "## Helper function for creating training batches according with the *dynamic approach*\n",
        "\n",
        "1. The analyzed text is sorted by length. \n",
        "2. A number of examples are selected from a random point in the sorted array and put together as one batch.\n",
        "3. Inputs within a batch are padded to the length of the longes input sequence in that batch.\n",
        "\n",
        "\n"
      ]
    },
    {
      "cell_type": "code",
      "metadata": {
        "id": "Km_ql-8XA8jj"
      },
      "source": [
        "def dynamic_batching(all_text, all_labels, batch_size):\n",
        "\n",
        "  all_input_ids = []\n",
        "  \n",
        "  print('Tokenizing Text...')\n",
        "\n",
        "  for txt in all_text:\n",
        "\n",
        "    input_id = tokenizer.encode(text=txt,\n",
        "                                add_special_tokens=True,\n",
        "                                max_length=MAX_LEN,\n",
        "                                truncation=True,\n",
        "                                padding=False)\n",
        "    all_input_ids.append(input_id)\n",
        "  \n",
        "\n",
        "  samples = sorted(zip(all_input_ids, all_labels), key=lambda x: len(x[0]))\n",
        "\n",
        "  text_batches = []\n",
        "  labels_batches = []\n",
        "\n",
        "  print('Selecting Batches...')\n",
        "\n",
        "  while len(samples) > 0:\n",
        "    to_take = min(batch_size, len(samples))\n",
        "    idx = random.randint(0, len(samples) - to_take)\n",
        "\n",
        "    batch = samples[idx : (idx + to_take)]\n",
        "\n",
        "    text_batches.append([x[0] for x in batch])\n",
        "    labels_batches.append([x[1] for x in batch])\n",
        "\n",
        "    del samples[idx : idx + to_take]\n",
        "  \n",
        "\n",
        "  final_input_ids = []\n",
        "  final_att_masks = []\n",
        "  final_labels = []\n",
        "\n",
        "  batched_input = zip(text_batches, labels_batches) \n",
        "\n",
        "  print('Padding...')\n",
        "\n",
        "  for (texts, labels) in batched_input:\n",
        "\n",
        "    batch_padded_input_ids = []\n",
        "    batch_att_masks = []\n",
        "\n",
        "    max_size = max([len(txt) for txt in texts])\n",
        "\n",
        "    for txt in texts:\n",
        "      num_pad_tokens = max_size - len(txt)\n",
        "      padded_text = txt + [tokenizer.pad_token_id] * num_pad_tokens\n",
        "      att_mask = [1] * len(txt) + [0] * num_pad_tokens\n",
        "\n",
        "      batch_padded_input_ids.append(padded_text)\n",
        "      batch_att_masks.append(att_mask)\n",
        "    \n",
        "    final_input_ids.append(torch.tensor(batch_padded_input_ids))\n",
        "    final_att_masks.append(torch.tensor(batch_att_masks))\n",
        "    final_labels.append(torch.tensor(labels))\n",
        "  \n",
        "  print('Batches Created')\n",
        "  return(final_input_ids, final_att_masks, final_labels)"
      ],
      "execution_count": null,
      "outputs": []
    },
    {
      "cell_type": "markdown",
      "metadata": {
        "id": "-Vk_lDeMD85p"
      },
      "source": [
        "# Training Loop"
      ]
    },
    {
      "cell_type": "code",
      "metadata": {
        "colab": {
          "base_uri": "https://localhost:8080/"
        },
        "id": "UG6ffkJiBUFr",
        "outputId": "43628cea-70a3-4e94-b872-3b7e17af7565"
      },
      "source": [
        "%%time\n",
        "\n",
        "training_stats = []\n",
        "\n",
        "for epoch in range(0, EPOCHS):\n",
        "  print('-' * 20)\n",
        "  print('Epoch: ', epoch+1)\n",
        "  print('-' * 20)\n",
        "\n",
        "  print('Creating training batches...')\n",
        "\n",
        "  (input_ids, att_masks, labels) = dynamic_batching(train_text, train_labels, BATCH_SIZE)\n",
        "  print('-' * 15)\n",
        "  print('Trainiing on: ', len(input_ids), ' batches')\n",
        "\n",
        "  losses = []\n",
        "  correct_predictions = 0\n",
        "\n",
        "  model.train()\n",
        "\n",
        "  for batch in range(0, len(input_ids)):\n",
        "\n",
        "    b_input_ids = input_ids[batch].to(device)\n",
        "    b_att_mask = att_masks[batch].to(device)\n",
        "    b_labels = labels[batch].to(device)\n",
        "\n",
        "    model.zero_grad()\n",
        "\n",
        "    logits = model(b_input_ids, b_att_mask)\n",
        "\n",
        "    _, preds = torch.max(logits, dim=1)\n",
        "    loss = loss_fn(logits, b_labels)\n",
        "\n",
        "    correct_predictions += torch.sum(preds == b_labels).item()\n",
        "    losses.append(loss.item())\n",
        "\n",
        "    loss.backward()\n",
        "\n",
        "    torch.nn.utils.clip_grad_norm_(model.parameters(), 1.0)\n",
        "\n",
        "    optimizer.step()\n",
        "    scheduler.step()\n",
        "    optimizer.zero_grad()\n",
        "  \n",
        "  avg_train_loss = np.sum(losses) / len(input_ids)\n",
        "  accuracy = correct_predictions / len(train_text) \n",
        "  print('avg training loss: ', avg_train_loss)\n",
        "  print('accuracy: ', accuracy)\n",
        "\n",
        "print('training done!')"
      ],
      "execution_count": null,
      "outputs": [
        {
          "output_type": "stream",
          "text": [
            "--------------------\n",
            "Epoch:  1\n",
            "--------------------\n",
            "Creating training batches...\n",
            "Tokenizing Text...\n",
            "Selecting Batches...\n",
            "Padding...\n",
            "Batches Created\n",
            "---------------\n",
            "Trainiing on:  63  batches\n",
            "avg training loss:  1.1377226218344674\n",
            "accuracy:  0.2837162837162837\n",
            "--------------------\n",
            "Epoch:  2\n",
            "--------------------\n",
            "Creating training batches...\n",
            "Tokenizing Text...\n",
            "Selecting Batches...\n",
            "Padding...\n",
            "Batches Created\n",
            "---------------\n",
            "Trainiing on:  63  batches\n",
            "avg training loss:  0.8971474795114427\n",
            "accuracy:  0.5854145854145855\n",
            "--------------------\n",
            "Epoch:  3\n",
            "--------------------\n",
            "Creating training batches...\n",
            "Tokenizing Text...\n",
            "Selecting Batches...\n",
            "Padding...\n",
            "Batches Created\n",
            "---------------\n",
            "Trainiing on:  63  batches\n",
            "avg training loss:  0.7034188896890671\n",
            "accuracy:  0.6183816183816184\n",
            "--------------------\n",
            "Epoch:  4\n",
            "--------------------\n",
            "Creating training batches...\n",
            "Tokenizing Text...\n",
            "Selecting Batches...\n",
            "Padding...\n",
            "Batches Created\n",
            "---------------\n",
            "Trainiing on:  63  batches\n",
            "avg training loss:  0.5674692974204109\n",
            "accuracy:  0.7332667332667333\n",
            "--------------------\n",
            "Epoch:  5\n",
            "--------------------\n",
            "Creating training batches...\n",
            "Tokenizing Text...\n",
            "Selecting Batches...\n",
            "Padding...\n",
            "Batches Created\n",
            "---------------\n",
            "Trainiing on:  63  batches\n",
            "avg training loss:  0.4257830920673552\n",
            "accuracy:  0.8281718281718282\n",
            "--------------------\n",
            "Epoch:  6\n",
            "--------------------\n",
            "Creating training batches...\n",
            "Tokenizing Text...\n",
            "Selecting Batches...\n",
            "Padding...\n",
            "Batches Created\n",
            "---------------\n",
            "Trainiing on:  63  batches\n",
            "avg training loss:  0.26474809031637886\n",
            "accuracy:  0.9150849150849151\n",
            "training done!\n",
            "CPU times: user 38.7 s, sys: 1.83 s, total: 40.5 s\n",
            "Wall time: 40.7 s\n"
          ],
          "name": "stdout"
        }
      ]
    },
    {
      "cell_type": "markdown",
      "metadata": {
        "id": "49BdRlTMD7NR"
      },
      "source": [
        "# Evaluation"
      ]
    },
    {
      "cell_type": "code",
      "metadata": {
        "colab": {
          "base_uri": "https://localhost:8080/"
        },
        "id": "q5FaF-x6BV6v",
        "outputId": "62b7669b-bc85-4fc9-8049-800a8f638d8f"
      },
      "source": [
        "test_inputs, test_att_masks, test_labels = dynamic_batching(test_text, test_labels, BATCH_SIZE)\n",
        "\n",
        "model.eval()\n",
        "\n",
        "predictions = []\n",
        "true_labels = []\n",
        "\n",
        "print('Test Set Predictions...')\n",
        "\n",
        "for batch in range(0, len(test_inputs)):\n",
        "\n",
        "  b_input_ids = test_inputs[batch].to(device)\n",
        "  b_att_mask = test_att_masks[batch].to(device)\n",
        "  b_labels = test_labels[batch].to(device)\n",
        "\n",
        "  with torch.no_grad():\n",
        "    logits = model(b_input_ids, b_att_mask)\n",
        "  \n",
        "  logits = torch.nn.functional.softmax(logits, dim=1)\n",
        "\n",
        "  logits = logits.detach().cpu().numpy()\n",
        "  label_ids = b_labels.to('cpu').numpy()\n",
        "  \n",
        "  # Store predictions and true labels\n",
        "  predictions.append(logits)\n",
        "  true_labels.append(label_ids)\n",
        "\n",
        "print('Evaluation Done!')\n",
        "\n",
        "print('-' * 20)\n",
        "predictions = np.concatenate(predictions, axis=0)\n",
        "true_labels = np.concatenate(true_labels, axis=0)\n",
        "\n",
        "preds = np.argmax(predictions, axis=1).flatten()\n",
        "print('Accuracy:')\n",
        "print(np.sum(preds == true_labels) / len(true_labels))\n"
      ],
      "execution_count": null,
      "outputs": [
        {
          "output_type": "stream",
          "text": [
            "Tokenizing Text...\n",
            "Selecting Batches...\n",
            "Padding...\n",
            "Batches Created\n",
            "Test Set Predictions...\n",
            "Evaluation Done!\n",
            "--------------------\n",
            "Accuracy:\n",
            "0.7305389221556886\n"
          ],
          "name": "stdout"
        }
      ]
    },
    {
      "cell_type": "code",
      "metadata": {
        "colab": {
          "base_uri": "https://localhost:8080/"
        },
        "id": "bLrISkPLBXfc",
        "outputId": "84d77736-d5fc-475d-994c-c6aa12b503ef"
      },
      "source": [
        "from sklearn.metrics import f1_score, precision_recall_fscore_support\n",
        "\n",
        "f1_w = f1_score(true_labels, preds, average='weighted')\n",
        "f1_micro = f1_score(true_labels, preds, average='micro')\n",
        "f1_macro = f1_score(true_labels, preds, average='macro')\n",
        "prec_rec_f1 = precision_recall_fscore_support(true_labels, preds, average='weighted')\n",
        "\n",
        "\n",
        "print('F1-Score Weighted: ', f1_w)\n",
        "print('F1-Score Micro: ', f1_micro)\n",
        "print('F1-Score Macro: ', f1_macro)\n",
        "print(prec_rec_f1)"
      ],
      "execution_count": null,
      "outputs": [
        {
          "output_type": "stream",
          "text": [
            "F1-Score Weighted:  0.7281675872393144\n",
            "F1-Score Micro:  0.7305389221556886\n",
            "F1-Score Macro:  0.7300646551724137\n",
            "(0.7939947855485202, 0.7305389221556886, 0.7281675872393144, None)\n"
          ],
          "name": "stdout"
        }
      ]
    }
  ]
}